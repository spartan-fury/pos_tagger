{
 "cells": [
  {
   "cell_type": "code",
   "execution_count": 1,
   "metadata": {},
   "outputs": [
    {
     "name": "stderr",
     "output_type": "stream",
     "text": [
      "[nltk_data] Downloading package punkt to C:\\Users\\Pinaki\n",
      "[nltk_data]     Das\\AppData\\Roaming\\nltk_data...\n",
      "[nltk_data]   Package punkt is already up-to-date!\n",
      "[nltk_data] Downloading package punkt_tab to C:\\Users\\Pinaki\n",
      "[nltk_data]     Das\\AppData\\Roaming\\nltk_data...\n",
      "[nltk_data]   Package punkt_tab is already up-to-date!\n"
     ]
    }
   ],
   "source": [
    "import os\n",
    "import nltk\n",
    "import random\n",
    "import sklearn_crfsuite\n",
    "import matplotlib.pyplot as plt\n",
    "import seaborn as sns\n",
    "from sklearn_crfsuite import metrics\n",
    "from src.crf import process_inputs, save_crf, load_crf\n",
    "from src.metrics import accuracy, tagwise_accuracy, confusion_matrix, compute_metrics"
   ]
  },
  {
   "cell_type": "code",
   "execution_count": 2,
   "metadata": {},
   "outputs": [
    {
     "name": "stderr",
     "output_type": "stream",
     "text": [
      "[nltk_data] Downloading package brown to C:\\Users\\Pinaki\n",
      "[nltk_data]     Das\\AppData\\Roaming\\nltk_data...\n",
      "[nltk_data]   Package brown is already up-to-date!\n",
      "[nltk_data] Downloading package universal_tagset to C:\\Users\\Pinaki\n",
      "[nltk_data]     Das\\AppData\\Roaming\\nltk_data...\n",
      "[nltk_data]   Package universal_tagset is already up-to-date!\n"
     ]
    },
    {
     "data": {
      "text/plain": [
       "True"
      ]
     },
     "execution_count": 2,
     "metadata": {},
     "output_type": "execute_result"
    }
   ],
   "source": [
    "nltk.download(\"brown\")\n",
    "nltk.download('universal_tagset')"
   ]
  },
  {
   "cell_type": "code",
   "execution_count": 3,
   "metadata": {},
   "outputs": [],
   "source": [
    "def load_brown_corpus(train_size=0.9, tagset=\"universal\", seed=42, join=False):\n",
    "    random.seed(seed)\n",
    "    corpus = list(nltk.corpus.brown.tagged_sents(tagset=tagset))\n",
    "    random.shuffle(corpus)\n",
    "    split_size = int(len(corpus) * train_size)\n",
    "    train_data = corpus[:split_size]\n",
    "    test_data = corpus[split_size:]\n",
    "    if join:\n",
    "        train_x = [\" \".join([x for x, _ in data]) for data in train_data]\n",
    "    else:\n",
    "        train_x = [[x for x, _ in data] for data in train_data]\n",
    "    train_y = [[y for _, y in data] for data in train_data]\n",
    "    if join:\n",
    "        test_x = [\" \".join([x for x, _ in data]) for data in test_data]\n",
    "    else:\n",
    "        test_x = [[x for x, _ in data] for data in test_data]\n",
    "    test_y = [[y for _, y in data] for data in test_data]\n",
    "    return train_x, train_y, test_x, test_y"
   ]
  },
  {
   "cell_type": "code",
   "execution_count": 4,
   "metadata": {},
   "outputs": [],
   "source": [
    "trainX, trainY, testX, testY = load_brown_corpus(train_size=0.9, tagset=\"universal\")"
   ]
  },
  {
   "cell_type": "code",
   "execution_count": 5,
   "metadata": {},
   "outputs": [
    {
     "name": "stdout",
     "output_type": "stream",
     "text": [
      "['He', 'let', 'her', 'tell', 'him', 'all', 'about', 'the', 'church', '.']\n",
      "['PRON', 'VERB', 'PRON', 'VERB', 'PRON', 'PRT', 'ADP', 'DET', 'NOUN', '.']\n"
     ]
    }
   ],
   "source": [
    "for sent, tar in zip(trainX, trainY):\n",
    "    print(sent)\n",
    "    print(tar)\n",
    "    break"
   ]
  },
  {
   "cell_type": "code",
   "execution_count": 6,
   "metadata": {},
   "outputs": [
    {
     "name": "stdout",
     "output_type": "stream",
     "text": [
      "['Assumption', '3', '.']\n",
      "['NOUN', 'NUM', '.']\n"
     ]
    }
   ],
   "source": [
    "for sent, tar in zip(testX, testY):\n",
    "    print(sent)\n",
    "    print(tar)\n",
    "    break"
   ]
  },
  {
   "cell_type": "code",
   "execution_count": 7,
   "metadata": {},
   "outputs": [
    {
     "name": "stdout",
     "output_type": "stream",
     "text": [
      "Number of samples in train and test respectively:  51606 5734\n"
     ]
    }
   ],
   "source": [
    "print(\"Number of samples in train and test respectively: \", len(trainX), len(testX))"
   ]
  },
  {
   "cell_type": "code",
   "execution_count": 8,
   "metadata": {},
   "outputs": [],
   "source": [
    "all_pos_tags = []\n",
    "for y in trainY:\n",
    "    all_pos_tags.extend(y)\n",
    "for y in testY:\n",
    "    all_pos_tags.extend(y)\n",
    "\n",
    "all_pos_tags = set(all_pos_tags)"
   ]
  },
  {
   "cell_type": "code",
   "execution_count": 9,
   "metadata": {},
   "outputs": [
    {
     "name": "stdout",
     "output_type": "stream",
     "text": [
      "All Pos Tags: \n",
      "{'CONJ', 'ADV', 'ADJ', 'NUM', 'DET', 'NOUN', '.', 'X', 'ADP', 'VERB', 'PRT', 'PRON'}\n"
     ]
    }
   ],
   "source": [
    "print(\"All Pos Tags: \")\n",
    "print(all_pos_tags)"
   ]
  },
  {
   "cell_type": "code",
   "execution_count": 10,
   "metadata": {},
   "outputs": [
    {
     "name": "stdout",
     "output_type": "stream",
     "text": [
      "Number of POS Tags:  12\n"
     ]
    }
   ],
   "source": [
    "print(\"Number of POS Tags: \", len(all_pos_tags))"
   ]
  },
  {
   "cell_type": "code",
   "execution_count": 11,
   "metadata": {},
   "outputs": [
    {
     "data": {
      "application/vnd.jupyter.widget-view+json": {
       "model_id": "aaa783c50c5a48fea88718b16a1515d2",
       "version_major": 2,
       "version_minor": 0
      },
      "text/plain": [
       "Processing Input data..:   0%|          | 0/51606 [00:00<?, ?it/s]"
      ]
     },
     "metadata": {},
     "output_type": "display_data"
    },
    {
     "data": {
      "application/vnd.jupyter.widget-view+json": {
       "model_id": "dd8258c5f7a84f839986505003b1e885",
       "version_major": 2,
       "version_minor": 0
      },
      "text/plain": [
       "Processing Input data..:   0%|          | 0/5734 [00:00<?, ?it/s]"
      ]
     },
     "metadata": {},
     "output_type": "display_data"
    }
   ],
   "source": [
    "trainX = process_inputs(trainX, split=True)\n",
    "testX = process_inputs(testX, split=True)"
   ]
  },
  {
   "cell_type": "code",
   "execution_count": 12,
   "metadata": {},
   "outputs": [
    {
     "data": {
      "text/plain": [
       "[{'word': 'He',\n",
       "  'word.lower': 'he',\n",
       "  'prefix1': 'H',\n",
       "  'prefix2': 'He',\n",
       "  'prefix3': 'He',\n",
       "  'suffix1': 'e',\n",
       "  'suffix2': 'He',\n",
       "  'suffix3': 'He',\n",
       "  'is_digit': False,\n",
       "  'is_punct': False,\n",
       "  'word_length': 2,\n",
       "  'stem': 'He',\n",
       "  'BOS': True,\n",
       "  '+1:word': 'let',\n",
       "  '+1:word.lower': 'let',\n",
       "  '+1:prefix1': 'l',\n",
       "  '+1:prefix2': 'le',\n",
       "  '+1:prefix3': 'let',\n",
       "  '+1:suffix1': 't',\n",
       "  '+1:suffix2': 'et',\n",
       "  '+1:suffix3': 'let',\n",
       "  '+1:is_digit': False,\n",
       "  '+1:is_punct': False,\n",
       "  '+1:word_length': 3,\n",
       "  '+1:stem': 'let',\n",
       "  '+2:word': 'her',\n",
       "  '+2:word.lower': 'her',\n",
       "  '+2:prefix1': 'h',\n",
       "  '+2:prefix2': 'he',\n",
       "  '+2:prefix3': 'her',\n",
       "  '+2:suffix1': 'r',\n",
       "  '+2:suffix2': 'er',\n",
       "  '+2:suffix3': 'her',\n",
       "  '+2:is_digit': False,\n",
       "  '+2:is_punct': False,\n",
       "  '+2:word_length': 3,\n",
       "  '+2:stem': 'her'},\n",
       " {'word': 'let',\n",
       "  'word.lower': 'let',\n",
       "  'prefix1': 'l',\n",
       "  'prefix2': 'le',\n",
       "  'prefix3': 'let',\n",
       "  'suffix1': 't',\n",
       "  'suffix2': 'et',\n",
       "  'suffix3': 'let',\n",
       "  'is_digit': False,\n",
       "  'is_punct': False,\n",
       "  'word_length': 3,\n",
       "  'stem': 'let',\n",
       "  '-1:word': 'He',\n",
       "  '-1:word.lower': 'he',\n",
       "  '-1:prefix1': 'H',\n",
       "  '-1:prefix2': 'He',\n",
       "  '-1:prefix3': 'He',\n",
       "  '-1:suffix1': 'e',\n",
       "  '-1:suffix2': 'He',\n",
       "  '-1:suffix3': 'He',\n",
       "  '-1:is_digit': False,\n",
       "  '-1:is_punct': False,\n",
       "  '-1:word_length': 2,\n",
       "  '-1:stem': 'He',\n",
       "  '+1:word': 'her',\n",
       "  '+1:word.lower': 'her',\n",
       "  '+1:prefix1': 'h',\n",
       "  '+1:prefix2': 'he',\n",
       "  '+1:prefix3': 'her',\n",
       "  '+1:suffix1': 'r',\n",
       "  '+1:suffix2': 'er',\n",
       "  '+1:suffix3': 'her',\n",
       "  '+1:is_digit': False,\n",
       "  '+1:is_punct': False,\n",
       "  '+1:word_length': 3,\n",
       "  '+1:stem': 'her',\n",
       "  '+2:word': 'tell',\n",
       "  '+2:word.lower': 'tell',\n",
       "  '+2:prefix1': 't',\n",
       "  '+2:prefix2': 'te',\n",
       "  '+2:prefix3': 'tel',\n",
       "  '+2:suffix1': 'l',\n",
       "  '+2:suffix2': 'll',\n",
       "  '+2:suffix3': 'ell',\n",
       "  '+2:is_digit': False,\n",
       "  '+2:is_punct': False,\n",
       "  '+2:word_length': 4,\n",
       "  '+2:stem': 'tell'},\n",
       " {'word': 'her',\n",
       "  'word.lower': 'her',\n",
       "  'prefix1': 'h',\n",
       "  'prefix2': 'he',\n",
       "  'prefix3': 'her',\n",
       "  'suffix1': 'r',\n",
       "  'suffix2': 'er',\n",
       "  'suffix3': 'her',\n",
       "  'is_digit': False,\n",
       "  'is_punct': False,\n",
       "  'word_length': 3,\n",
       "  'stem': 'her',\n",
       "  '-1:word': 'let',\n",
       "  '-1:word.lower': 'let',\n",
       "  '-1:prefix1': 'l',\n",
       "  '-1:prefix2': 'le',\n",
       "  '-1:prefix3': 'let',\n",
       "  '-1:suffix1': 't',\n",
       "  '-1:suffix2': 'et',\n",
       "  '-1:suffix3': 'let',\n",
       "  '-1:is_digit': False,\n",
       "  '-1:is_punct': False,\n",
       "  '-1:word_length': 3,\n",
       "  '-1:stem': 'let',\n",
       "  '+1:word': 'tell',\n",
       "  '+1:word.lower': 'tell',\n",
       "  '+1:prefix1': 't',\n",
       "  '+1:prefix2': 'te',\n",
       "  '+1:prefix3': 'tel',\n",
       "  '+1:suffix1': 'l',\n",
       "  '+1:suffix2': 'll',\n",
       "  '+1:suffix3': 'ell',\n",
       "  '+1:is_digit': False,\n",
       "  '+1:is_punct': False,\n",
       "  '+1:word_length': 4,\n",
       "  '+1:stem': 'tell',\n",
       "  '-2:word': 'He',\n",
       "  '-2:word.lower': 'he',\n",
       "  '-2:prefix1': 'H',\n",
       "  '-2:prefix2': 'He',\n",
       "  '-2:prefix3': 'He',\n",
       "  '-2:suffix1': 'e',\n",
       "  '-2:suffix2': 'He',\n",
       "  '-2:suffix3': 'He',\n",
       "  '-2:is_digit': False,\n",
       "  '-2:is_punct': False,\n",
       "  '-2:word_length': 2,\n",
       "  '-2:stem': 'He',\n",
       "  '+2:word': 'him',\n",
       "  '+2:word.lower': 'him',\n",
       "  '+2:prefix1': 'h',\n",
       "  '+2:prefix2': 'hi',\n",
       "  '+2:prefix3': 'him',\n",
       "  '+2:suffix1': 'm',\n",
       "  '+2:suffix2': 'im',\n",
       "  '+2:suffix3': 'him',\n",
       "  '+2:is_digit': False,\n",
       "  '+2:is_punct': False,\n",
       "  '+2:word_length': 3,\n",
       "  '+2:stem': 'him'},\n",
       " {'word': 'tell',\n",
       "  'word.lower': 'tell',\n",
       "  'prefix1': 't',\n",
       "  'prefix2': 'te',\n",
       "  'prefix3': 'tel',\n",
       "  'suffix1': 'l',\n",
       "  'suffix2': 'll',\n",
       "  'suffix3': 'ell',\n",
       "  'is_digit': False,\n",
       "  'is_punct': False,\n",
       "  'word_length': 4,\n",
       "  'stem': 'tell',\n",
       "  '-1:word': 'her',\n",
       "  '-1:word.lower': 'her',\n",
       "  '-1:prefix1': 'h',\n",
       "  '-1:prefix2': 'he',\n",
       "  '-1:prefix3': 'her',\n",
       "  '-1:suffix1': 'r',\n",
       "  '-1:suffix2': 'er',\n",
       "  '-1:suffix3': 'her',\n",
       "  '-1:is_digit': False,\n",
       "  '-1:is_punct': False,\n",
       "  '-1:word_length': 3,\n",
       "  '-1:stem': 'her',\n",
       "  '+1:word': 'him',\n",
       "  '+1:word.lower': 'him',\n",
       "  '+1:prefix1': 'h',\n",
       "  '+1:prefix2': 'hi',\n",
       "  '+1:prefix3': 'him',\n",
       "  '+1:suffix1': 'm',\n",
       "  '+1:suffix2': 'im',\n",
       "  '+1:suffix3': 'him',\n",
       "  '+1:is_digit': False,\n",
       "  '+1:is_punct': False,\n",
       "  '+1:word_length': 3,\n",
       "  '+1:stem': 'him',\n",
       "  '-2:word': 'let',\n",
       "  '-2:word.lower': 'let',\n",
       "  '-2:prefix1': 'l',\n",
       "  '-2:prefix2': 'le',\n",
       "  '-2:prefix3': 'let',\n",
       "  '-2:suffix1': 't',\n",
       "  '-2:suffix2': 'et',\n",
       "  '-2:suffix3': 'let',\n",
       "  '-2:is_digit': False,\n",
       "  '-2:is_punct': False,\n",
       "  '-2:word_length': 3,\n",
       "  '-2:stem': 'let',\n",
       "  '+2:word': 'all',\n",
       "  '+2:word.lower': 'all',\n",
       "  '+2:prefix1': 'a',\n",
       "  '+2:prefix2': 'al',\n",
       "  '+2:prefix3': 'all',\n",
       "  '+2:suffix1': 'l',\n",
       "  '+2:suffix2': 'll',\n",
       "  '+2:suffix3': 'all',\n",
       "  '+2:is_digit': False,\n",
       "  '+2:is_punct': False,\n",
       "  '+2:word_length': 3,\n",
       "  '+2:stem': 'all'},\n",
       " {'word': 'him',\n",
       "  'word.lower': 'him',\n",
       "  'prefix1': 'h',\n",
       "  'prefix2': 'hi',\n",
       "  'prefix3': 'him',\n",
       "  'suffix1': 'm',\n",
       "  'suffix2': 'im',\n",
       "  'suffix3': 'him',\n",
       "  'is_digit': False,\n",
       "  'is_punct': False,\n",
       "  'word_length': 3,\n",
       "  'stem': 'him',\n",
       "  '-1:word': 'tell',\n",
       "  '-1:word.lower': 'tell',\n",
       "  '-1:prefix1': 't',\n",
       "  '-1:prefix2': 'te',\n",
       "  '-1:prefix3': 'tel',\n",
       "  '-1:suffix1': 'l',\n",
       "  '-1:suffix2': 'll',\n",
       "  '-1:suffix3': 'ell',\n",
       "  '-1:is_digit': False,\n",
       "  '-1:is_punct': False,\n",
       "  '-1:word_length': 4,\n",
       "  '-1:stem': 'tell',\n",
       "  '+1:word': 'all',\n",
       "  '+1:word.lower': 'all',\n",
       "  '+1:prefix1': 'a',\n",
       "  '+1:prefix2': 'al',\n",
       "  '+1:prefix3': 'all',\n",
       "  '+1:suffix1': 'l',\n",
       "  '+1:suffix2': 'll',\n",
       "  '+1:suffix3': 'all',\n",
       "  '+1:is_digit': False,\n",
       "  '+1:is_punct': False,\n",
       "  '+1:word_length': 3,\n",
       "  '+1:stem': 'all',\n",
       "  '-2:word': 'her',\n",
       "  '-2:word.lower': 'her',\n",
       "  '-2:prefix1': 'h',\n",
       "  '-2:prefix2': 'he',\n",
       "  '-2:prefix3': 'her',\n",
       "  '-2:suffix1': 'r',\n",
       "  '-2:suffix2': 'er',\n",
       "  '-2:suffix3': 'her',\n",
       "  '-2:is_digit': False,\n",
       "  '-2:is_punct': False,\n",
       "  '-2:word_length': 3,\n",
       "  '-2:stem': 'her',\n",
       "  '+2:word': 'about',\n",
       "  '+2:word.lower': 'about',\n",
       "  '+2:prefix1': 'a',\n",
       "  '+2:prefix2': 'ab',\n",
       "  '+2:prefix3': 'abo',\n",
       "  '+2:suffix1': 't',\n",
       "  '+2:suffix2': 'ut',\n",
       "  '+2:suffix3': 'out',\n",
       "  '+2:is_digit': False,\n",
       "  '+2:is_punct': False,\n",
       "  '+2:word_length': 5,\n",
       "  '+2:stem': 'about'},\n",
       " {'word': 'all',\n",
       "  'word.lower': 'all',\n",
       "  'prefix1': 'a',\n",
       "  'prefix2': 'al',\n",
       "  'prefix3': 'all',\n",
       "  'suffix1': 'l',\n",
       "  'suffix2': 'll',\n",
       "  'suffix3': 'all',\n",
       "  'is_digit': False,\n",
       "  'is_punct': False,\n",
       "  'word_length': 3,\n",
       "  'stem': 'all',\n",
       "  '-1:word': 'him',\n",
       "  '-1:word.lower': 'him',\n",
       "  '-1:prefix1': 'h',\n",
       "  '-1:prefix2': 'hi',\n",
       "  '-1:prefix3': 'him',\n",
       "  '-1:suffix1': 'm',\n",
       "  '-1:suffix2': 'im',\n",
       "  '-1:suffix3': 'him',\n",
       "  '-1:is_digit': False,\n",
       "  '-1:is_punct': False,\n",
       "  '-1:word_length': 3,\n",
       "  '-1:stem': 'him',\n",
       "  '+1:word': 'about',\n",
       "  '+1:word.lower': 'about',\n",
       "  '+1:prefix1': 'a',\n",
       "  '+1:prefix2': 'ab',\n",
       "  '+1:prefix3': 'abo',\n",
       "  '+1:suffix1': 't',\n",
       "  '+1:suffix2': 'ut',\n",
       "  '+1:suffix3': 'out',\n",
       "  '+1:is_digit': False,\n",
       "  '+1:is_punct': False,\n",
       "  '+1:word_length': 5,\n",
       "  '+1:stem': 'about',\n",
       "  '-2:word': 'tell',\n",
       "  '-2:word.lower': 'tell',\n",
       "  '-2:prefix1': 't',\n",
       "  '-2:prefix2': 'te',\n",
       "  '-2:prefix3': 'tel',\n",
       "  '-2:suffix1': 'l',\n",
       "  '-2:suffix2': 'll',\n",
       "  '-2:suffix3': 'ell',\n",
       "  '-2:is_digit': False,\n",
       "  '-2:is_punct': False,\n",
       "  '-2:word_length': 4,\n",
       "  '-2:stem': 'tell',\n",
       "  '+2:word': 'the',\n",
       "  '+2:word.lower': 'the',\n",
       "  '+2:prefix1': 't',\n",
       "  '+2:prefix2': 'th',\n",
       "  '+2:prefix3': 'the',\n",
       "  '+2:suffix1': 'e',\n",
       "  '+2:suffix2': 'he',\n",
       "  '+2:suffix3': 'the',\n",
       "  '+2:is_digit': False,\n",
       "  '+2:is_punct': False,\n",
       "  '+2:word_length': 3,\n",
       "  '+2:stem': 'th'},\n",
       " {'word': 'about',\n",
       "  'word.lower': 'about',\n",
       "  'prefix1': 'a',\n",
       "  'prefix2': 'ab',\n",
       "  'prefix3': 'abo',\n",
       "  'suffix1': 't',\n",
       "  'suffix2': 'ut',\n",
       "  'suffix3': 'out',\n",
       "  'is_digit': False,\n",
       "  'is_punct': False,\n",
       "  'word_length': 5,\n",
       "  'stem': 'about',\n",
       "  '-1:word': 'all',\n",
       "  '-1:word.lower': 'all',\n",
       "  '-1:prefix1': 'a',\n",
       "  '-1:prefix2': 'al',\n",
       "  '-1:prefix3': 'all',\n",
       "  '-1:suffix1': 'l',\n",
       "  '-1:suffix2': 'll',\n",
       "  '-1:suffix3': 'all',\n",
       "  '-1:is_digit': False,\n",
       "  '-1:is_punct': False,\n",
       "  '-1:word_length': 3,\n",
       "  '-1:stem': 'all',\n",
       "  '+1:word': 'the',\n",
       "  '+1:word.lower': 'the',\n",
       "  '+1:prefix1': 't',\n",
       "  '+1:prefix2': 'th',\n",
       "  '+1:prefix3': 'the',\n",
       "  '+1:suffix1': 'e',\n",
       "  '+1:suffix2': 'he',\n",
       "  '+1:suffix3': 'the',\n",
       "  '+1:is_digit': False,\n",
       "  '+1:is_punct': False,\n",
       "  '+1:word_length': 3,\n",
       "  '+1:stem': 'th',\n",
       "  '-2:word': 'him',\n",
       "  '-2:word.lower': 'him',\n",
       "  '-2:prefix1': 'h',\n",
       "  '-2:prefix2': 'hi',\n",
       "  '-2:prefix3': 'him',\n",
       "  '-2:suffix1': 'm',\n",
       "  '-2:suffix2': 'im',\n",
       "  '-2:suffix3': 'him',\n",
       "  '-2:is_digit': False,\n",
       "  '-2:is_punct': False,\n",
       "  '-2:word_length': 3,\n",
       "  '-2:stem': 'him',\n",
       "  '+2:word': 'church',\n",
       "  '+2:word.lower': 'church',\n",
       "  '+2:prefix1': 'c',\n",
       "  '+2:prefix2': 'ch',\n",
       "  '+2:prefix3': 'chu',\n",
       "  '+2:suffix1': 'h',\n",
       "  '+2:suffix2': 'ch',\n",
       "  '+2:suffix3': 'rch',\n",
       "  '+2:is_digit': False,\n",
       "  '+2:is_punct': False,\n",
       "  '+2:word_length': 6,\n",
       "  '+2:stem': 'church'},\n",
       " {'word': 'the',\n",
       "  'word.lower': 'the',\n",
       "  'prefix1': 't',\n",
       "  'prefix2': 'th',\n",
       "  'prefix3': 'the',\n",
       "  'suffix1': 'e',\n",
       "  'suffix2': 'he',\n",
       "  'suffix3': 'the',\n",
       "  'is_digit': False,\n",
       "  'is_punct': False,\n",
       "  'word_length': 3,\n",
       "  'stem': 'th',\n",
       "  '-1:word': 'about',\n",
       "  '-1:word.lower': 'about',\n",
       "  '-1:prefix1': 'a',\n",
       "  '-1:prefix2': 'ab',\n",
       "  '-1:prefix3': 'abo',\n",
       "  '-1:suffix1': 't',\n",
       "  '-1:suffix2': 'ut',\n",
       "  '-1:suffix3': 'out',\n",
       "  '-1:is_digit': False,\n",
       "  '-1:is_punct': False,\n",
       "  '-1:word_length': 5,\n",
       "  '-1:stem': 'about',\n",
       "  '+1:word': 'church',\n",
       "  '+1:word.lower': 'church',\n",
       "  '+1:prefix1': 'c',\n",
       "  '+1:prefix2': 'ch',\n",
       "  '+1:prefix3': 'chu',\n",
       "  '+1:suffix1': 'h',\n",
       "  '+1:suffix2': 'ch',\n",
       "  '+1:suffix3': 'rch',\n",
       "  '+1:is_digit': False,\n",
       "  '+1:is_punct': False,\n",
       "  '+1:word_length': 6,\n",
       "  '+1:stem': 'church',\n",
       "  '-2:word': 'all',\n",
       "  '-2:word.lower': 'all',\n",
       "  '-2:prefix1': 'a',\n",
       "  '-2:prefix2': 'al',\n",
       "  '-2:prefix3': 'all',\n",
       "  '-2:suffix1': 'l',\n",
       "  '-2:suffix2': 'll',\n",
       "  '-2:suffix3': 'all',\n",
       "  '-2:is_digit': False,\n",
       "  '-2:is_punct': False,\n",
       "  '-2:word_length': 3,\n",
       "  '-2:stem': 'all',\n",
       "  '+2:word': '.',\n",
       "  '+2:word.lower': '.',\n",
       "  '+2:prefix1': '.',\n",
       "  '+2:prefix2': '.',\n",
       "  '+2:prefix3': '.',\n",
       "  '+2:suffix1': '.',\n",
       "  '+2:suffix2': '.',\n",
       "  '+2:suffix3': '.',\n",
       "  '+2:is_digit': False,\n",
       "  '+2:is_punct': True,\n",
       "  '+2:word_length': 1,\n",
       "  '+2:stem': '.'},\n",
       " {'word': 'church',\n",
       "  'word.lower': 'church',\n",
       "  'prefix1': 'c',\n",
       "  'prefix2': 'ch',\n",
       "  'prefix3': 'chu',\n",
       "  'suffix1': 'h',\n",
       "  'suffix2': 'ch',\n",
       "  'suffix3': 'rch',\n",
       "  'is_digit': False,\n",
       "  'is_punct': False,\n",
       "  'word_length': 6,\n",
       "  'stem': 'church',\n",
       "  '-1:word': 'the',\n",
       "  '-1:word.lower': 'the',\n",
       "  '-1:prefix1': 't',\n",
       "  '-1:prefix2': 'th',\n",
       "  '-1:prefix3': 'the',\n",
       "  '-1:suffix1': 'e',\n",
       "  '-1:suffix2': 'he',\n",
       "  '-1:suffix3': 'the',\n",
       "  '-1:is_digit': False,\n",
       "  '-1:is_punct': False,\n",
       "  '-1:word_length': 3,\n",
       "  '-1:stem': 'th',\n",
       "  '+1:word': '.',\n",
       "  '+1:word.lower': '.',\n",
       "  '+1:prefix1': '.',\n",
       "  '+1:prefix2': '.',\n",
       "  '+1:prefix3': '.',\n",
       "  '+1:suffix1': '.',\n",
       "  '+1:suffix2': '.',\n",
       "  '+1:suffix3': '.',\n",
       "  '+1:is_digit': False,\n",
       "  '+1:is_punct': True,\n",
       "  '+1:word_length': 1,\n",
       "  '+1:stem': '.',\n",
       "  '-2:word': 'about',\n",
       "  '-2:word.lower': 'about',\n",
       "  '-2:prefix1': 'a',\n",
       "  '-2:prefix2': 'ab',\n",
       "  '-2:prefix3': 'abo',\n",
       "  '-2:suffix1': 't',\n",
       "  '-2:suffix2': 'ut',\n",
       "  '-2:suffix3': 'out',\n",
       "  '-2:is_digit': False,\n",
       "  '-2:is_punct': False,\n",
       "  '-2:word_length': 5,\n",
       "  '-2:stem': 'about'},\n",
       " {'word': '.',\n",
       "  'word.lower': '.',\n",
       "  'prefix1': '.',\n",
       "  'prefix2': '.',\n",
       "  'prefix3': '.',\n",
       "  'suffix1': '.',\n",
       "  'suffix2': '.',\n",
       "  'suffix3': '.',\n",
       "  'is_digit': False,\n",
       "  'is_punct': True,\n",
       "  'word_length': 1,\n",
       "  'stem': '.',\n",
       "  'EOS': True,\n",
       "  '-1:word': 'church',\n",
       "  '-1:word.lower': 'church',\n",
       "  '-1:prefix1': 'c',\n",
       "  '-1:prefix2': 'ch',\n",
       "  '-1:prefix3': 'chu',\n",
       "  '-1:suffix1': 'h',\n",
       "  '-1:suffix2': 'ch',\n",
       "  '-1:suffix3': 'rch',\n",
       "  '-1:is_digit': False,\n",
       "  '-1:is_punct': False,\n",
       "  '-1:word_length': 6,\n",
       "  '-1:stem': 'church',\n",
       "  '-2:word': 'the',\n",
       "  '-2:word.lower': 'the',\n",
       "  '-2:prefix1': 't',\n",
       "  '-2:prefix2': 'th',\n",
       "  '-2:prefix3': 'the',\n",
       "  '-2:suffix1': 'e',\n",
       "  '-2:suffix2': 'he',\n",
       "  '-2:suffix3': 'the',\n",
       "  '-2:is_digit': False,\n",
       "  '-2:is_punct': False,\n",
       "  '-2:word_length': 3,\n",
       "  '-2:stem': 'th'}]"
      ]
     },
     "execution_count": 12,
     "metadata": {},
     "output_type": "execute_result"
    }
   ],
   "source": [
    "trainX[0]"
   ]
  },
  {
   "cell_type": "code",
   "execution_count": 13,
   "metadata": {},
   "outputs": [],
   "source": [
    "crf = sklearn_crfsuite.CRF(\n",
    "    algorithm = 'lbfgs',\n",
    "    c1 = 0.25,\n",
    "    c2 = 0.3,\n",
    "    max_iterations = 100,\n",
    "    all_possible_transitions=True\n",
    ")"
   ]
  },
  {
   "cell_type": "code",
   "execution_count": 14,
   "metadata": {},
   "outputs": [],
   "source": [
    "# crf.fit(trainX, trainY)"
   ]
  },
  {
   "cell_type": "code",
   "execution_count": 15,
   "metadata": {},
   "outputs": [],
   "source": [
    "# save_crf(crf, \"crf.pkl\")"
   ]
  },
  {
   "cell_type": "code",
   "execution_count": 16,
   "metadata": {},
   "outputs": [],
   "source": [
    "model = load_crf(\"crf.pkl\")\n",
    "test_predictions = model.predict(testX)"
   ]
  },
  {
   "cell_type": "code",
   "execution_count": 17,
   "metadata": {},
   "outputs": [
    {
     "data": {
      "text/plain": [
       "0.9805054089288335"
      ]
     },
     "execution_count": 17,
     "metadata": {},
     "output_type": "execute_result"
    }
   ],
   "source": [
    "metrics.flat_accuracy_score(testY, test_predictions)"
   ]
  },
  {
   "cell_type": "code",
   "execution_count": 18,
   "metadata": {},
   "outputs": [
    {
     "name": "stdout",
     "output_type": "stream",
     "text": [
      "              precision    recall  f1-score   support\n",
      "\n",
      "           .      1.000     1.000     1.000     14791\n",
      "         ADJ      0.948     0.934     0.941      8194\n",
      "         ADP      0.980     0.987     0.983     14444\n",
      "         ADV      0.953     0.944     0.948      5612\n",
      "        CONJ      0.996     0.998     0.997      3753\n",
      "         DET      0.995     0.996     0.996     13596\n",
      "        NOUN      0.975     0.981     0.978     27425\n",
      "         NUM      0.980     0.986     0.983      1537\n",
      "        PRON      0.996     0.988     0.992      5030\n",
      "         PRT      0.959     0.948     0.953      2942\n",
      "        VERB      0.982     0.981     0.982     18404\n",
      "           X      0.788     0.414     0.543        99\n",
      "\n",
      "    accuracy                          0.981    115827\n",
      "   macro avg      0.963     0.930     0.941    115827\n",
      "weighted avg      0.980     0.981     0.980    115827\n",
      "\n"
     ]
    }
   ],
   "source": [
    "print(metrics.flat_classification_report(testY, test_predictions, digits=3))"
   ]
  },
  {
   "cell_type": "code",
   "execution_count": 19,
   "metadata": {},
   "outputs": [
    {
     "name": "stdout",
     "output_type": "stream",
     "text": [
      "0.9805054089288335\n"
     ]
    }
   ],
   "source": [
    "print(metrics.flat_fbeta_score(testY, test_predictions, beta=0.5, average=\"micro\"))"
   ]
  },
  {
   "cell_type": "code",
   "execution_count": 20,
   "metadata": {},
   "outputs": [
    {
     "name": "stdout",
     "output_type": "stream",
     "text": [
      "0.9805054089288335\n"
     ]
    }
   ],
   "source": [
    "print(metrics.flat_fbeta_score(testY, test_predictions, beta=2, average=\"micro\"))"
   ]
  },
  {
   "cell_type": "code",
   "execution_count": 21,
   "metadata": {},
   "outputs": [
    {
     "name": "stdout",
     "output_type": "stream",
     "text": [
      "0.9805054089288335\n"
     ]
    }
   ],
   "source": [
    "print(metrics.flat_fbeta_score(testY, test_predictions, beta=1, average=\"micro\"))"
   ]
  },
  {
   "cell_type": "code",
   "execution_count": 22,
   "metadata": {},
   "outputs": [
    {
     "data": {
      "text/plain": [
       "0.9805054089288335"
      ]
     },
     "execution_count": 22,
     "metadata": {},
     "output_type": "execute_result"
    }
   ],
   "source": [
    "accuracy(test_predictions, testY)"
   ]
  },
  {
   "cell_type": "code",
   "execution_count": 23,
   "metadata": {},
   "outputs": [],
   "source": [
    "labels = list(all_pos_tags)"
   ]
  },
  {
   "cell_type": "code",
   "execution_count": 24,
   "metadata": {},
   "outputs": [
    {
     "data": {
      "text/plain": [
       "{'CONJ': 0.9978683719690914,\n",
       " 'ADV': 0.9436920883820384,\n",
       " 'ADJ': 0.9338540395411277,\n",
       " 'NUM': 0.9856864020819779,\n",
       " 'DET': 0.9960282436010591,\n",
       " 'NOUN': 0.9812579762989972,\n",
       " '.': 1.0,\n",
       " 'X': 0.41414141414141414,\n",
       " 'ADP': 0.9870534477983938,\n",
       " 'VERB': 0.9814714192566834,\n",
       " 'PRT': 0.947654656696125,\n",
       " 'PRON': 0.9876739562624255}"
      ]
     },
     "execution_count": 24,
     "metadata": {},
     "output_type": "execute_result"
    }
   ],
   "source": [
    "tagwise_accuracy(test_predictions, testY, labels=labels)"
   ]
  },
  {
   "cell_type": "code",
   "execution_count": 25,
   "metadata": {},
   "outputs": [
    {
     "data": {
      "text/plain": [
       "{'precision': array([0.99601064, 0.95320374, 0.94820322, 0.97994825, 0.99529619,\n",
       "        0.97464779, 0.99979722, 0.78846154, 0.97992989, 0.98248572,\n",
       "        0.95873453, 0.99559118]),\n",
       " 'recall': array([0.99786837, 0.94369209, 0.93385404, 0.9856864 , 0.99602824,\n",
       "        0.98125798, 1.        , 0.41414141, 0.98705345, 0.98147142,\n",
       "        0.94765466, 0.98767396]),\n",
       " 'fbeta': array([0.99693864, 0.94842407, 0.94097393, 0.98280895, 0.99566208,\n",
       "        0.97794171, 0.9998986 , 0.54304636, 0.98347877, 0.98197831,\n",
       "        0.95316239, 0.99161677]),\n",
       " 'precision_macro': 0.9626924925857917,\n",
       " 'recall_macro': 0.9296985013357778,\n",
       " 'fbeta_macro': 0.941327548288339,\n",
       " 'precision_micro': 0.9805054089288335,\n",
       " 'recall_micro': 0.9805054089288335,\n",
       " 'fbeta_micro': 0.9805054089288335,\n",
       " 'precision_weighted': 0.9803861022238209,\n",
       " 'recall_weighted': 0.9805054089288335,\n",
       " 'fbeta_weighted': 0.980384983108695,\n",
       " 'classwise_metrics': {'CONJ': {'precision': 0.9960106382978723,\n",
       "   'recall': 0.9978683719690914,\n",
       "   'fbeta': 0.9969386396912019},\n",
       "  'ADV': {'precision': 0.953203743700504,\n",
       "   'recall': 0.9436920883820384,\n",
       "   'fbeta': 0.9484240687679083},\n",
       "  'ADJ': {'precision': 0.9482032218091697,\n",
       "   'recall': 0.9338540395411277,\n",
       "   'fbeta': 0.940973930152484},\n",
       "  'NUM': {'precision': 0.9799482535575679,\n",
       "   'recall': 0.9856864020819779,\n",
       "   'fbeta': 0.9828089523191696},\n",
       "  'DET': {'precision': 0.9952961928560929,\n",
       "   'recall': 0.9960282436010591,\n",
       "   'fbeta': 0.9956620836703184},\n",
       "  'NOUN': {'precision': 0.9746477853029589,\n",
       "   'recall': 0.9812579762989972,\n",
       "   'fbeta': 0.9779417108801511},\n",
       "  '.': {'precision': 0.9997972150871975,\n",
       "   'recall': 1.0,\n",
       "   'fbeta': 0.999898597262126},\n",
       "  'X': {'precision': 0.7884615384615384,\n",
       "   'recall': 0.41414141414141414,\n",
       "   'fbeta': 0.543046357615894},\n",
       "  'ADP': {'precision': 0.9799298920888033,\n",
       "   'recall': 0.9870534477983938,\n",
       "   'fbeta': 0.9834787707377642},\n",
       "  'VERB': {'precision': 0.9824857220560239,\n",
       "   'recall': 0.9814714192566834,\n",
       "   'fbeta': 0.9819783087335888},\n",
       "  'PRT': {'precision': 0.9587345254470426,\n",
       "   'recall': 0.947654656696125,\n",
       "   'fbeta': 0.9531623931623932},\n",
       "  'PRON': {'precision': 0.9955911823647294,\n",
       "   'recall': 0.9876739562624255,\n",
       "   'fbeta': 0.9916167664670659}}}"
      ]
     },
     "execution_count": 25,
     "metadata": {},
     "output_type": "execute_result"
    }
   ],
   "source": [
    "compute_metrics(test_predictions, testY, labels=labels, beta=1)"
   ]
  },
  {
   "cell_type": "code",
   "execution_count": 26,
   "metadata": {},
   "outputs": [],
   "source": [
    "cm = confusion_matrix(test_predictions, testY, labels=labels)"
   ]
  },
  {
   "cell_type": "code",
   "execution_count": 27,
   "metadata": {},
   "outputs": [
    {
     "data": {
      "image/png": "[encoded data removed]",
      "text/plain": [
       "<Figure size 2500x2500 with 1 Axes>"
      ]
     },
     "metadata": {},
     "output_type": "display_data"
    }
   ],
   "source": [
    "plt.figure(figsize=(25, 25))\n",
    "ax = sns.heatmap(cm, annot=True, fmt='d', cmap='Blues', xticklabels=labels, yticklabels=labels, cbar=False, annot_kws={\"size\": 20})\n",
    "ax.tick_params(axis='both', which='major', labelsize=25)\n",
    "ax.set_title(\"CRF Confusion Matrix\")\n",
    "plt.show()"
   ]
  },
  {
   "cell_type": "code",
   "execution_count": 29,
   "metadata": {},
   "outputs": [],
   "source": [
    "incorrect_cases = {\n",
    "    ('NOUN', 'ADJ'),\n",
    "    ('VERB', 'ADJ'),\n",
    "    ('ADJ', 'NOUN'),\n",
    "    ('VERB', 'NOUN'),\n",
    "    ('NOUN', 'VERB'),\n",
    "    ('ADP', 'ADV'),\n",
    "    ('DET', 'PRON'),\n",
    "    ('ADJ', 'ADV'),\n",
    "    ('PRT', 'ADP')\n",
    "}"
   ]
  },
  {
   "cell_type": "code",
   "execution_count": 30,
   "metadata": {},
   "outputs": [],
   "source": [
    "def find_wrong_predictions(pred_preds, true_preds, incorrect_cases, testX):\n",
    "    wrong_predictions = {case: [] for case in incorrect_cases}\n",
    "    for i, (true_seq, pred_seq) in enumerate(zip(true_preds, pred_preds)):\n",
    "        for j, (true_tag, pred_tag) in enumerate(zip(true_seq, pred_seq)):\n",
    "            if (true_tag, pred_tag) in incorrect_cases:\n",
    "                wrong_predictions[(true_tag, pred_tag)].append({\n",
    "                    'sentence_index': i,\n",
    "                    'word_index': j,\n",
    "                    'true_tag': true_tag,\n",
    "                    'predicted_tag': pred_tag,\n",
    "                    'word': testX[i][j],\n",
    "                    'sentence': ' '.join(testX[i])\n",
    "                })\n",
    "    return wrong_predictions\n",
    "\n",
    "def save_predictions_to_files(wrong_preds, output_dir='wrong_predictions'):\n",
    "    if not os.path.exists(output_dir):\n",
    "        os.makedirs(output_dir)\n",
    "    \n",
    "    for case, predictions in wrong_preds.items():\n",
    "        case_str = f\"{case[0]}_to_{case[1]}\"\n",
    "        file_path = os.path.join(output_dir, f\"{case_str}.txt\")\n",
    "        with open(file_path, 'w') as f:\n",
    "            for item in predictions:\n",
    "                f.write(f\"Sentence Index: {item['sentence_index']}, Word Index: {item['word_index']}, Word: '{item['word']}', True Tag: {item['true_tag']}, Predicted Tag: {item['predicted_tag']}\\n\")\n",
    "                f.write(f\"Sentence: {item['sentence']}\\n\")\n",
    "                f.write(\"\\n\")\n",
    "                              \n",
    "def extract_words(testX):\n",
    "    return [[word_dict['word'] for word_dict in sentence] for sentence in testX]"
   ]
  },
  {
   "cell_type": "code",
   "execution_count": 31,
   "metadata": {},
   "outputs": [],
   "source": [
    "#make testX listoflist of words\n",
    "testX_wordsOnly = extract_words(testX)"
   ]
  },
  {
   "cell_type": "code",
   "execution_count": 33,
   "metadata": {},
   "outputs": [],
   "source": [
    "wrong_preds = find_wrong_predictions(test_predictions, testY, incorrect_cases, testX_wordsOnly)\n",
    "\n",
    "# Save predictions to files\n",
    "save_predictions_to_files(wrong_preds)"
   ]
  },
  {
   "cell_type": "code",
   "execution_count": null,
   "metadata": {},
   "outputs": [],
   "source": []
  }
 ],
 "metadata": {
  "kernelspec": {
   "display_name": "CS626-A1",
   "language": "python",
   "name": "python3"
  },
  "language_info": {
   "codemirror_mode": {
    "name": "ipython",
    "version": 3
   },
   "file_extension": ".py",
   "mimetype": "text/x-python",
   "name": "python",
   "nbconvert_exporter": "python",
   "pygments_lexer": "ipython3",
   "version": "3.12.4"
  }
 },
 "nbformat": 4,
 "nbformat_minor": 2
}
