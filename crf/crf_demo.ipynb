{
 "cells": [
  {
   "cell_type": "code",
   "execution_count": 1,
   "metadata": {},
   "outputs": [
    {
     "name": "stderr",
     "output_type": "stream",
     "text": [
      "[nltk_data] Downloading package punkt to C:\\Users\\Pinaki\n",
      "[nltk_data]     Das\\AppData\\Roaming\\nltk_data...\n",
      "[nltk_data]   Package punkt is already up-to-date!\n",
      "[nltk_data] Downloading package punkt_tab to C:\\Users\\Pinaki\n",
      "[nltk_data]     Das\\AppData\\Roaming\\nltk_data...\n",
      "[nltk_data]   Package punkt_tab is already up-to-date!\n"
     ]
    }
   ],
   "source": [
    "from src.crf import process_inputs, load_crf\n",
    "import gradio as gr"
   ]
  },
  {
   "cell_type": "code",
   "execution_count": 2,
   "metadata": {},
   "outputs": [],
   "source": [
    "model = load_crf(\"crf.pkl\")"
   ]
  },
  {
   "cell_type": "code",
   "execution_count": 3,
   "metadata": {},
   "outputs": [],
   "source": [
    "def extract_words(testX):\n",
    "    test_words = [[word_dict['word'] for word_dict in sentence] for sentence in testX]\n",
    "    return test_words\n",
    "def getPOSTag(input):\n",
    "    testX = process_inputs([input], split=False)\n",
    "    test_predictions = model.predict(testX)\n",
    "    testX = extract_words(testX)\n",
    "    output = str(list(zip(testX[0], test_predictions[0])))\n",
    "    return output"
   ]
  },
  {
   "cell_type": "code",
   "execution_count": 5,
   "metadata": {},
   "outputs": [
    {
     "name": "stdout",
     "output_type": "stream",
     "text": [
      "Running on local URL:  http://127.0.0.1:7860\n",
      "\n",
      "To create a public link, set `share=True` in `launch()`.\n"
     ]
    },
    {
     "data": {
      "text/html": [
       "<div><iframe src=\"http://127.0.0.1:7860/\" width=\"100%\" height=\"500\" allow=\"autoplay; camera; microphone; clipboard-read; clipboard-write;\" frameborder=\"0\" allowfullscreen></iframe></div>"
      ],
      "text/plain": [
       "<IPython.core.display.HTML object>"
      ]
     },
     "metadata": {},
     "output_type": "display_data"
    },
    {
     "data": {
      "text/plain": []
     },
     "execution_count": 5,
     "metadata": {},
     "output_type": "execute_result"
    },
    {
     "data": {
      "application/vnd.jupyter.widget-view+json": {
       "model_id": "c06558eb448a42d198814c48803f7a0d",
       "version_major": 2,
       "version_minor": 0
      },
      "text/plain": [
       "Processing Input data..:   0%|          | 0/1 [00:00<?, ?it/s]"
      ]
     },
     "metadata": {},
     "output_type": "display_data"
    },
    {
     "data": {
      "application/vnd.jupyter.widget-view+json": {
       "model_id": "696d26e41e8748a8bb05ed93eb64a6e8",
       "version_major": 2,
       "version_minor": 0
      },
      "text/plain": [
       "Processing Input data..:   0%|          | 0/1 [00:00<?, ?it/s]"
      ]
     },
     "metadata": {},
     "output_type": "display_data"
    },
    {
     "data": {
      "application/vnd.jupyter.widget-view+json": {
       "model_id": "fce444f540f3404aad87a75d53543690",
       "version_major": 2,
       "version_minor": 0
      },
      "text/plain": [
       "Processing Input data..:   0%|          | 0/1 [00:00<?, ?it/s]"
      ]
     },
     "metadata": {},
     "output_type": "display_data"
    },
    {
     "data": {
      "application/vnd.jupyter.widget-view+json": {
       "model_id": "652a6dff0c664ee8bb6586f15461c2a3",
       "version_major": 2,
       "version_minor": 0
      },
      "text/plain": [
       "Processing Input data..:   0%|          | 0/1 [00:00<?, ?it/s]"
      ]
     },
     "metadata": {},
     "output_type": "display_data"
    },
    {
     "data": {
      "application/vnd.jupyter.widget-view+json": {
       "model_id": "33fee8c83cb8491083b5930ddfbb33c8",
       "version_major": 2,
       "version_minor": 0
      },
      "text/plain": [
       "Processing Input data..:   0%|          | 0/1 [00:00<?, ?it/s]"
      ]
     },
     "metadata": {},
     "output_type": "display_data"
    },
    {
     "data": {
      "application/vnd.jupyter.widget-view+json": {
       "model_id": "bcbe2405f9124bc8af018eb7641c83e4",
       "version_major": 2,
       "version_minor": 0
      },
      "text/plain": [
       "Processing Input data..:   0%|          | 0/1 [00:00<?, ?it/s]"
      ]
     },
     "metadata": {},
     "output_type": "display_data"
    },
    {
     "data": {
      "application/vnd.jupyter.widget-view+json": {
       "model_id": "768b5d16009749198b52cb5e06412f24",
       "version_major": 2,
       "version_minor": 0
      },
      "text/plain": [
       "Processing Input data..:   0%|          | 0/1 [00:00<?, ?it/s]"
      ]
     },
     "metadata": {},
     "output_type": "display_data"
    },
    {
     "data": {
      "application/vnd.jupyter.widget-view+json": {
       "model_id": "256bf6e4521c4e4a982ae78718cd1c1f",
       "version_major": 2,
       "version_minor": 0
      },
      "text/plain": [
       "Processing Input data..:   0%|          | 0/1 [00:00<?, ?it/s]"
      ]
     },
     "metadata": {},
     "output_type": "display_data"
    },
    {
     "data": {
      "application/vnd.jupyter.widget-view+json": {
       "model_id": "fdc8bec881ec4f9fbdb4d14ecea92632",
       "version_major": 2,
       "version_minor": 0
      },
      "text/plain": [
       "Processing Input data..:   0%|          | 0/1 [00:00<?, ?it/s]"
      ]
     },
     "metadata": {},
     "output_type": "display_data"
    },
    {
     "data": {
      "application/vnd.jupyter.widget-view+json": {
       "model_id": "90b4005a60cf4126880d0e1cd05fc03f",
       "version_major": 2,
       "version_minor": 0
      },
      "text/plain": [
       "Processing Input data..:   0%|          | 0/1 [00:00<?, ?it/s]"
      ]
     },
     "metadata": {},
     "output_type": "display_data"
    },
    {
     "data": {
      "application/vnd.jupyter.widget-view+json": {
       "model_id": "6bca1843667d4984b1f0d0f8fc041a81",
       "version_major": 2,
       "version_minor": 0
      },
      "text/plain": [
       "Processing Input data..:   0%|          | 0/1 [00:00<?, ?it/s]"
      ]
     },
     "metadata": {},
     "output_type": "display_data"
    },
    {
     "data": {
      "application/vnd.jupyter.widget-view+json": {
       "model_id": "7666255b2e764b5283019bf58ee61b1a",
       "version_major": 2,
       "version_minor": 0
      },
      "text/plain": [
       "Processing Input data..:   0%|          | 0/1 [00:00<?, ?it/s]"
      ]
     },
     "metadata": {},
     "output_type": "display_data"
    },
    {
     "data": {
      "application/vnd.jupyter.widget-view+json": {
       "model_id": "d332bff850304b8db5a4b05acc1a3f1f",
       "version_major": 2,
       "version_minor": 0
      },
      "text/plain": [
       "Processing Input data..:   0%|          | 0/1 [00:00<?, ?it/s]"
      ]
     },
     "metadata": {},
     "output_type": "display_data"
    }
   ],
   "source": [
    "iface = gr.Interface(\n",
    "    fn=getPOSTag,\n",
    "    inputs=\"text\",\n",
    "    outputs=\"text\",\n",
    "    title=\"CRF POS Tagger\",\n",
    "    description=\"Enter a sentence to get the Part-of-Speech (POS) tags using CRF.\"\n",
    ")\n",
    "# Launch the interface\n",
    "iface.launch()"
   ]
  },
  {
   "cell_type": "code",
   "execution_count": null,
   "metadata": {},
   "outputs": [],
   "source": []
  }
 ],
 "metadata": {
  "kernelspec": {
   "display_name": "base",
   "language": "python",
   "name": "python3"
  },
  "language_info": {
   "codemirror_mode": {
    "name": "ipython",
    "version": 3
   },
   "file_extension": ".py",
   "mimetype": "text/x-python",
   "name": "python",
   "nbconvert_exporter": "python",
   "pygments_lexer": "ipython3",
   "version": "3.12.4"
  }
 },
 "nbformat": 4,
 "nbformat_minor": 2
}
