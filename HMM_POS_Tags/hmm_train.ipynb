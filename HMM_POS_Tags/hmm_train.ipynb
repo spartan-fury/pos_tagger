{
 "cells": [
  {
   "cell_type": "code",
   "execution_count": 1,
   "metadata": {},
   "outputs": [
    {
     "name": "stderr",
     "output_type": "stream",
     "text": [
      "/opt/homebrew/Caskroom/miniconda/base/envs/CS626-A1/lib/python3.12/site-packages/tqdm/auto.py:21: TqdmWarning: IProgress not found. Please update jupyter and ipywidgets. See https://ipywidgets.readthedocs.io/en/stable/user_install.html\n",
      "  from .autonotebook import tqdm as notebook_tqdm\n",
      "[nltk_data] Downloading package punkt to /Users/stark/nltk_data...\n",
      "[nltk_data]   Package punkt is already up-to-date!\n",
      "[nltk_data] Downloading package punkt_tab to /Users/stark/nltk_data...\n",
      "[nltk_data]   Package punkt_tab is already up-to-date!\n"
     ]
    }
   ],
   "source": [
    "import nltk\n",
    "import random\n",
    "from src.hmm import HMM, process_inputs, save_hmm, load_hmm"
   ]
  },
  {
   "cell_type": "code",
   "execution_count": 2,
   "metadata": {},
   "outputs": [
    {
     "name": "stderr",
     "output_type": "stream",
     "text": [
      "[nltk_data] Downloading package brown to /Users/stark/nltk_data...\n",
      "[nltk_data]   Package brown is already up-to-date!\n",
      "[nltk_data] Downloading package universal_tagset to\n",
      "[nltk_data]     /Users/stark/nltk_data...\n",
      "[nltk_data]   Package universal_tagset is already up-to-date!\n"
     ]
    },
    {
     "data": {
      "text/plain": [
       "True"
      ]
     },
     "execution_count": 2,
     "metadata": {},
     "output_type": "execute_result"
    }
   ],
   "source": [
    "nltk.download(\"brown\")\n",
    "nltk.download('universal_tagset')"
   ]
  },
  {
   "cell_type": "code",
   "execution_count": 3,
   "metadata": {},
   "outputs": [],
   "source": [
    "def load_brown_corpus(train_size=0.9, tagset=\"universal\", seed=42, join=False):\n",
    "    random.seed(seed)\n",
    "    corpus = list(nltk.corpus.brown.tagged_sents(tagset=tagset))\n",
    "    random.shuffle(corpus)\n",
    "    split_size = int(len(corpus) * train_size)\n",
    "    train_data = corpus[:split_size]\n",
    "    test_data = corpus[split_size:]\n",
    "    if join:\n",
    "        train_x = [\" \".join([x for x, _ in data]) for data in train_data]\n",
    "    else:\n",
    "        train_x = [[x for x, _ in data] for data in train_data]\n",
    "    train_y = [[y for _, y in data] for data in train_data]\n",
    "    if join:\n",
    "        test_x = [\" \".join([x for x, _ in data]) for data in test_data]\n",
    "    else:\n",
    "        test_x = [[x for x, _ in data] for data in test_data]\n",
    "    test_y = [[y for _, y in data] for data in test_data]\n",
    "    return train_x, train_y, test_x, test_y"
   ]
  },
  {
   "cell_type": "code",
   "execution_count": 4,
   "metadata": {},
   "outputs": [],
   "source": [
    "trainX, trainY, testX, testY = load_brown_corpus(train_size=0.9, tagset=\"universal\")"
   ]
  },
  {
   "cell_type": "code",
   "execution_count": 5,
   "metadata": {},
   "outputs": [
    {
     "name": "stdout",
     "output_type": "stream",
     "text": [
      "['He', 'let', 'her', 'tell', 'him', 'all', 'about', 'the', 'church', '.']\n",
      "['PRON', 'VERB', 'PRON', 'VERB', 'PRON', 'PRT', 'ADP', 'DET', 'NOUN', '.']\n"
     ]
    }
   ],
   "source": [
    "for sent, tar in zip(trainX, trainY):\n",
    "    print(sent)\n",
    "    print(tar)\n",
    "    break"
   ]
  },
  {
   "cell_type": "code",
   "execution_count": 6,
   "metadata": {},
   "outputs": [
    {
     "name": "stdout",
     "output_type": "stream",
     "text": [
      "['Assumption', '3', '.']\n",
      "['NOUN', 'NUM', '.']\n"
     ]
    }
   ],
   "source": [
    "for sent, tar in zip(testX, testY):\n",
    "    print(sent)\n",
    "    print(tar)\n",
    "    break"
   ]
  },
  {
   "cell_type": "code",
   "execution_count": 7,
   "metadata": {},
   "outputs": [
    {
     "name": "stdout",
     "output_type": "stream",
     "text": [
      "Number of samples in train and test respectively:  51606 5734\n"
     ]
    }
   ],
   "source": [
    "print(\"Number of samples in train and test respectively: \", len(trainX), len(testX))"
   ]
  },
  {
   "cell_type": "code",
   "execution_count": 8,
   "metadata": {},
   "outputs": [],
   "source": [
    "all_pos_tags = []\n",
    "for y in trainY:\n",
    "    all_pos_tags.extend(y)\n",
    "for y in testY:\n",
    "    all_pos_tags.extend(y)\n",
    "\n",
    "all_pos_tags = set(all_pos_tags)"
   ]
  },
  {
   "cell_type": "code",
   "execution_count": 9,
   "metadata": {},
   "outputs": [
    {
     "name": "stdout",
     "output_type": "stream",
     "text": [
      "All Pos Tags: \n",
      "{'ADP', 'DET', 'NOUN', 'ADJ', 'X', 'VERB', 'NUM', 'PRT', 'ADV', '.', 'CONJ', 'PRON'}\n"
     ]
    }
   ],
   "source": [
    "print(\"All Pos Tags: \")\n",
    "print(all_pos_tags)"
   ]
  },
  {
   "cell_type": "code",
   "execution_count": 10,
   "metadata": {},
   "outputs": [
    {
     "name": "stdout",
     "output_type": "stream",
     "text": [
      "Number of POS Tags:  12\n"
     ]
    }
   ],
   "source": [
    "print(\"Number of POS Tags: \", len(all_pos_tags))"
   ]
  },
  {
   "cell_type": "code",
   "execution_count": 11,
   "metadata": {},
   "outputs": [
    {
     "name": "stderr",
     "output_type": "stream",
     "text": [
      "Processing Input data..: 100%|██████████| 51606/51606 [00:00<00:00, 322827.40it/s]\n",
      "Processing Input data..: 100%|██████████| 5734/5734 [00:00<00:00, 576686.63it/s]\n"
     ]
    }
   ],
   "source": [
    "trainX = process_inputs(trainX, split=True)\n",
    "testX = process_inputs(testX, split=True)"
   ]
  },
  {
   "cell_type": "code",
   "execution_count": 12,
   "metadata": {},
   "outputs": [
    {
     "data": {
      "text/plain": [
       "['he', 'let', 'her', 'tell', 'him', 'all', 'about', 'the', 'church', '.']"
      ]
     },
     "execution_count": 12,
     "metadata": {},
     "output_type": "execute_result"
    }
   ],
   "source": [
    "trainX[0]"
   ]
  },
  {
   "cell_type": "code",
   "execution_count": 13,
   "metadata": {},
   "outputs": [
    {
     "data": {
      "text/plain": [
       "['assumption', '3', '.']"
      ]
     },
     "execution_count": 13,
     "metadata": {},
     "output_type": "execute_result"
    }
   ],
   "source": [
    "testX[0]"
   ]
  },
  {
   "cell_type": "code",
   "execution_count": 14,
   "metadata": {},
   "outputs": [],
   "source": [
    "model = HMM()"
   ]
  },
  {
   "cell_type": "code",
   "execution_count": 15,
   "metadata": {},
   "outputs": [
    {
     "name": "stdout",
     "output_type": "stream",
     "text": [
      "(14, 11648)\n"
     ]
    },
    {
     "name": "stderr",
     "output_type": "stream",
     "text": [
      "Fitting HMM..: 100%|██████████| 51606/51606 [00:00<00:00, 87458.30it/s]\n"
     ]
    }
   ],
   "source": [
    "model.fit(X=trainX, y=trainY)\n",
    "save_hmm(model, \"hmm.pkl\")"
   ]
  },
  {
   "cell_type": "code",
   "execution_count": 16,
   "metadata": {},
   "outputs": [
    {
     "name": "stderr",
     "output_type": "stream",
     "text": [
      "Predicting..: 100%|██████████| 5734/5734 [00:08<00:00, 680.39it/s]\n"
     ]
    }
   ],
   "source": [
    "model = load_hmm(\"hmm.pkl\")\n",
    "test_predictions = model.predict(testX)"
   ]
  },
  {
   "cell_type": "code",
   "execution_count": 17,
   "metadata": {},
   "outputs": [],
   "source": [
    "from src.metrics import accuracy, confusion_matrix"
   ]
  },
  {
   "cell_type": "code",
   "execution_count": 18,
   "metadata": {},
   "outputs": [
    {
     "data": {
      "text/plain": [
       "0.9488374903951583"
      ]
     },
     "execution_count": 18,
     "metadata": {},
     "output_type": "execute_result"
    }
   ],
   "source": [
    "accuracy(test_predictions, testY)"
   ]
  },
  {
   "cell_type": "code",
   "execution_count": null,
   "metadata": {},
   "outputs": [],
   "source": []
  }
 ],
 "metadata": {
  "kernelspec": {
   "display_name": "CS626-A1",
   "language": "python",
   "name": "python3"
  },
  "language_info": {
   "codemirror_mode": {
    "name": "ipython",
    "version": 3
   },
   "file_extension": ".py",
   "mimetype": "text/x-python",
   "name": "python",
   "nbconvert_exporter": "python",
   "pygments_lexer": "ipython3",
   "version": "3.12.4"
  }
 },
 "nbformat": 4,
 "nbformat_minor": 2
}
